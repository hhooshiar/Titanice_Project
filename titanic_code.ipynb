{
 "cells": [
  {
   "cell_type": "markdown",
   "metadata": {},
   "source": [
    "### Overview of Data Set"
   ]
  },
  {
   "cell_type": "markdown",
   "metadata": {},
   "source": [
    "Survival - Survival (0 = No; 1 = Yes)  \n",
    "Pclass - Passenger Class (1 = 1st; 2 = 2nd; 3 = 3rd)  \n",
    "Name - Name  \n",
    "Sex - Sex (male; female)  \n",
    "Age - Age  \n",
    "Sibsp - Number of Siblings/Spouses Aboard  \n",
    "Parch - Number of Parents/Children Aboard  \n",
    "Ticket - Ticket Number  \n",
    "Fare - Passenger Fare  \n",
    "Cabin - Cabin Number  \n",
    "Embarked - Port of Embarkation (C = Cherbourg; Q = Queenstown; S = Southampton)  "
   ]
  },
  {
   "cell_type": "markdown",
   "metadata": {},
   "source": [
    "### Import Library"
   ]
  },
  {
   "cell_type": "code",
   "execution_count": null,
   "metadata": {},
   "outputs": [],
   "source": [
    "import pandas as pd\n",
    "import numpy as np\n",
    "import matplotlib.pyplot as plt\n",
    "import seaborn as sns\n",
    "from sklearn.pipeline import Pipeline\n",
    "from sklearn.preprocessing import StandardScaler\n",
    "from sklearn.base import BaseEstimator, TransformerMixin\n",
    "from sklearn.pipeline import FeatureUnion\n",
    "from sklearn.impute import SimpleImputer\n",
    "from sklearn.preprocessing import OneHotEncoder\n",
    "from sklearn.compose import ColumnTransformer\n",
    "import matplotlib.gridspec as grid_spec\n",
    "from matplotlib.ticker import FuncFormatter\n",
    "from IPython.display import display\n",
    "from sklearn.linear_model import LogisticRegression\n",
    "from sklearn.metrics import classification_report, confusion_matrix"
   ]
  },
  {
   "cell_type": "markdown",
   "metadata": {},
   "source": [
    "### Import and Preparing Data"
   ]
  },
  {
   "cell_type": "code",
   "execution_count": null,
   "metadata": {},
   "outputs": [],
   "source": [
    "df_train = pd.read_csv('./data/train.csv')\n",
    "df_test = pd.read_csv('./data/test.csv')\n",
    "\n",
    "data_train = df_train.drop(['PassengerId','Name','Ticket','Cabin'], axis=1)\n",
    "data_test = df_test.drop(['PassengerId','Name','Ticket','Cabin'], axis=1)\n",
    "data_train['Embarked'] = data_train['Embarked'].replace(['C','Q','S'],['Cherbourg','Queenstown','Southampton'])\n",
    "data_test['Embarked'] = data_test['Embarked'].replace(['C','Q','S'],['Cherbourg','Queenstown','Southampton'])\n",
    "data_train['Pclass'] = data_train['Pclass'].map({1:'First Class', 2:'Second Class', 3:'Third Class'})\n",
    "data_test['Pclass'] = data_test['Pclass'].map({1:'First Class', 2:'Second Class', 3:'Third Class'})\n",
    "data_label = df_train['Survived'] \n",
    "\n",
    "def titanic_children(passenger):\n",
    "    age , sex = passenger\n",
    "    if age <16:\n",
    "        return 'child'\n",
    "    else:\n",
    "        return sex\n",
    "\n",
    "data_train['Person'] = data_train[['Age','Sex']].apply(titanic_children, axis=1)\n",
    "\n",
    "data_train['Alone'] = data_train['Parch'] + data_train['SibSp']\n",
    "data_train['Alone'].loc[data_train['Alone']>0] = 'With Family'\n",
    "data_train['Alone'].loc[data_train['Alone'] == 0] = 'Without Family'"
   ]
  },
  {
   "cell_type": "markdown",
   "metadata": {},
   "source": [
    "Pipeline"
   ]
  },
  {
   "cell_type": "code",
   "execution_count": null,
   "metadata": {},
   "outputs": [],
   "source": [
    "# ================= PipeLine FeatureUnion ==================\n",
    "\n",
    "num_attrs = list(data_train[['Age', 'Fare']])\n",
    "cat_attrs = list(data_train[['Sex', 'Embarked','Alone','Person']])\n",
    "data_train_att = data_train.drop(['Survived'], axis=1)\n",
    "\n",
    "class DataFrameSelector (BaseEstimator , TransformerMixin):\n",
    "    def __init__(self, attribute_names):\n",
    "        self.attribute_names=attribute_names\n",
    "    def fit(self, x, y=None):\n",
    "        return self\n",
    "    def transform(self, x):\n",
    "        return x[self.attribute_names].values\n",
    "\n",
    "num_pipeline=Pipeline([\n",
    "    ('selector',DataFrameSelector(num_attrs)),\n",
    "    ('imputer',SimpleImputer(missing_values=np.nan, strategy='median')),\n",
    "    ('std_scaler', StandardScaler()),\n",
    "    ])    \n",
    "\n",
    "cat_pipeline=Pipeline([\n",
    "    ('selector',DataFrameSelector(cat_attrs)),\n",
    "    ('imputer', SimpleImputer(strategy='most_frequent', fill_value='missing')),\n",
    "    ('one_hot_encoder', OneHotEncoder(handle_unknown='ignore', sparse=False)),\n",
    "    ])\n",
    "\n",
    "full_pipeline=FeatureUnion(transformer_list=[\n",
    "    ('num_pipeline', num_pipeline),\n",
    "    ('cat_pipeline', cat_pipeline),\n",
    "    ])\n",
    "  \n",
    "train_prepared = full_pipeline.fit_transform(data_train_att)\n",
    "cat_columns = full_pipeline.transformer_list[1][1][2].get_feature_names(cat_attrs)\n",
    "columns = np.append(num_attrs,cat_columns)\n",
    "train_prepared = pd.DataFrame(train_prepared, columns=columns)"
   ]
  },
  {
   "cell_type": "markdown",
   "metadata": {},
   "source": [
    "### Exploratory Data Analysis"
   ]
  },
  {
   "cell_type": "code",
   "execution_count": null,
   "metadata": {},
   "outputs": [],
   "source": [
    "display(df_train.head())\n",
    "\n",
    "display(data_train.head())\n",
    "display(data_train.info())\n",
    "display(data_train.isna().sum())\n",
    "display(data_train.describe())\n",
    "display(data_train.columns.values)\n",
    "\n",
    "display(train_prepared.info())\n",
    "display(train_prepared.isna().sum())\n",
    "\n",
    "data_label_rec=data_label.replace([0,1],['Dead','Live'])\n",
    "Sex_Sur_tab = pd.crosstab(index=data_train['Sex'], columns=data_label_rec, margins=True, margins_name='total')\n",
    "Pclass_Sur_tab = pd.crosstab(index=data_train['Pclass'], columns=data_label_rec, margins=True, margins_name='total')\n",
    "Embarked_Sur_tab = pd.crosstab(index=data_train['Embarked'], columns=data_label_rec, margins=True, margins_name='total')\n",
    "Person_Sur_tab = pd.crosstab(index=data_train['Person'], columns=data_label_rec, margins=True, margins_name='total')\n",
    "Alone_Sur_tab = pd.crosstab(index=data_train['Alone'], columns=data_label_rec, margins=True, margins_name='total')\n",
    "\n",
    "\n",
    "display(Sex_Sur_tab, Pclass_Sur_tab, Embarked_Sur_tab, Person_Sur_tab, Alone_Sur_tab)"
   ]
  },
  {
   "cell_type": "code",
   "execution_count": null,
   "metadata": {},
   "outputs": [],
   "source": [
    "fig, axes = plt.subplots(4,2, figsize=(10,10))\n",
    "fig.suptitle('Plot of Peaple')\n",
    "sns.countplot(ax=axes[0,0], x='Sex', data=data_train)\n",
    "data_train.groupby('Sex').size().plot(ax=axes[0,1], kind='pie', autopct='%.0f')\n",
    "# data_train['Sex'].value_counts().plot(ax=axes[0,1], kind='pie', autopct='%.0f')\n",
    "sns.countplot(ax=axes[1,0], x='Person', data=data_train)\n",
    "sns.countplot(ax=axes[1,1], x='Pclass', data=data_train)\n",
    "sns.countplot(ax=axes[2,0], x='Embarked' ,data=data_train)\n",
    "sns.countplot(ax=axes[2,1], x='SibSp' ,data=data_train)\n",
    "sns.countplot(ax=axes[3,0], x='Parch' ,data=data_train)\n",
    "sns.countplot(ax=axes[3,1], x='Alone' ,data=data_train)"
   ]
  },
  {
   "cell_type": "code",
   "execution_count": null,
   "metadata": {},
   "outputs": [],
   "source": [
    "sns.histplot(x='Age', data=data_train, kde=True, bins=70)\n",
    "sns.catplot(x=\"Sex\", y=\"Age\", kind=\"box\", data=data_train)\n",
    "sns.catplot(x=\"Pclass\", y=\"Age\", kind=\"box\", data=data_train)\n",
    "sns.catplot(x=\"Embarked\", y=\"Age\", kind=\"box\", data=data_train)"
   ]
  },
  {
   "cell_type": "code",
   "execution_count": null,
   "metadata": {},
   "outputs": [],
   "source": [
    "sns.violinplot(x=\"Sex\", y=\"Age\", hue=\"Survived\", data=data_train, split = True)"
   ]
  },
  {
   "cell_type": "code",
   "execution_count": null,
   "metadata": {},
   "outputs": [],
   "source": [
    "fig, axes = plt.subplots(3,2, figsize=(10,10))\n",
    "fig.suptitle('Plot of Peaple')\n",
    "sns.countplot(ax=axes[0,0], x='Survived', data=data_train)\n",
    "sns.countplot(ax=axes[0,1], x='Survived', data=data_train, hue='Sex')\n",
    "sns.countplot(ax=axes[1,0], x='Survived', data=data_train, hue='Person')\n",
    "sns.countplot(ax=axes[1,1], x='Survived', data=data_train, hue='Pclass')\n",
    "sns.countplot(ax=axes[2,0], x='Survived', data=data_train, hue='Embarked')\n",
    "sns.countplot(ax=axes[2,1], x='Survived', data=data_train, hue='Alone')\n",
    "pd.crosstab(data_train['Pclass'], data_train['Survived']).plot(kind='bar', stacked=True)"
   ]
  },
  {
   "cell_type": "code",
   "execution_count": null,
   "metadata": {},
   "outputs": [],
   "source": [
    "sns.factorplot('Pclass', 'Survived', data=data_train, hue='Alone')\n",
    "sns.factorplot('Pclass', 'Survived', data=data_train, hue='Person')"
   ]
  },
  {
   "cell_type": "code",
   "execution_count": null,
   "metadata": {},
   "outputs": [],
   "source": [
    "# Heatmap \n",
    "group = data_train.groupby(['Pclass', 'Survived'])\n",
    "pclass_survived = group.size().unstack()\n",
    "sns.heatmap(pclass_survived, annot=True, fmt=\"d\")"
   ]
  },
  {
   "cell_type": "code",
   "execution_count": null,
   "metadata": {},
   "outputs": [],
   "source": [
    "# Divide Fare into 4 bins\n",
    "# data_train['Fare_Range'] = pd.qcut(data_train['Fare'], 4)\n",
    "# sns.barplot(x ='Fare_Range', y ='Survived', data=data_train)"
   ]
  },
  {
   "cell_type": "code",
   "execution_count": null,
   "metadata": {},
   "outputs": [],
   "source": [
    "g = sns.catplot(x=\"Fare\", y=\"Survived\", row=\"Pclass\", kind=\"box\", orient=\"h\", height=1.5, aspect=4, data=data_train.query('Fare>0'))\n",
    "g.set(xscale=\"log\")"
   ]
  },
  {
   "cell_type": "code",
   "execution_count": null,
   "metadata": {},
   "outputs": [],
   "source": [
    "as_fig = sns.FacetGrid(data_train, hue='Sex', aspect=3)\n",
    "as_fig.map(sns.kdeplot, 'Age', shade=True)\n",
    "oldest = data_train['Age'].max()\n",
    "as_fig.set(xlim=(0,oldest))\n",
    "as_fig.add_legend()"
   ]
  },
  {
   "cell_type": "code",
   "execution_count": null,
   "metadata": {},
   "outputs": [],
   "source": [
    "as_fig = sns.FacetGrid(data_train, hue='Pclass', aspect=3)\n",
    "as_fig.map(sns.kdeplot, 'Age', shade=True)\n",
    "oldest = data_train['Age'].max()\n",
    "as_fig.set(xlim=(0,oldest))\n",
    "as_fig.add_legend()"
   ]
  },
  {
   "cell_type": "code",
   "execution_count": null,
   "metadata": {},
   "outputs": [],
   "source": [
    "grid = sns.FacetGrid(data_train, row='Embarked', col='Survived', size=2.2, aspect=1.6)\n",
    "grid.map(sns.barplot, 'Sex', 'Fare', alpha=.5, ci=None)\n",
    "grid.add_legend()"
   ]
  },
  {
   "cell_type": "code",
   "execution_count": null,
   "metadata": {},
   "outputs": [],
   "source": [
    "sns.lmplot('Age', 'Survived', data=data_train)\n",
    "sns.lmplot('Age', 'Survived', data=data_train, hue='Pclass')\n",
    "sns.lmplot('Age', 'Survived', data=data_train, hue='Sex')\n",
    "sns.lmplot('Age', 'Survived', data=data_train, hue='Alone')\n",
    "sns.lmplot('Age', 'Survived', data=data_train, hue='Embarked')"
   ]
  },
  {
   "cell_type": "code",
   "execution_count": null,
   "metadata": {},
   "outputs": [],
   "source": [
    "fig = plt.figure(figsize=(12, 8))\n",
    "gs = fig.add_gridspec(3,1)\n",
    "gs.update(hspace= -0.55)\n",
    "\n",
    "axes = list()\n",
    "colors = [\"#022133\", \"#5c693b\", \"#51371c\"]\n",
    "\n",
    "for idx, cls, c in zip(range(3), sorted(data_train['Pclass'].unique()), colors):\n",
    "    axes.append(fig.add_subplot(gs[idx, 0]))\n",
    "    \n",
    "    # you can also draw density plot with matplotlib + scipy.\n",
    "    sns.kdeplot(x='Age', data=data_train[data_train['Pclass']==cls], \n",
    "                fill=True, ax=axes[idx], cut=0, bw_method=0.25, \n",
    "                lw=1.4, edgecolor='lightgray', hue='Survived', \n",
    "                multiple=\"stack\", palette='PuBu', alpha=0.7\n",
    "               ) \n",
    "    \n",
    "    axes[idx].set_ylim(0, 0.04)\n",
    "    axes[idx].set_xlim(0, 85)\n",
    "    \n",
    "    axes[idx].set_yticks([])\n",
    "    if idx != 2 : axes[idx].set_xticks([])\n",
    "    axes[idx].set_ylabel('')\n",
    "    axes[idx].set_xlabel('')\n",
    "    \n",
    "    spines = [\"top\",\"right\",\"left\",\"bottom\"]\n",
    "    for s in spines:\n",
    "        axes[idx].spines[s].set_visible(False)\n",
    "        \n",
    "    axes[idx].patch.set_alpha(0)\n",
    "    axes[idx].text(-0.2,0,f'Pclass {cls}',fontweight=\"light\", fontfamily='serif', fontsize=11,ha=\"right\")\n",
    "    if idx != 1 : axes[idx].get_legend().remove()\n",
    "        \n",
    "fig.text(0.13,0.81,\"Age distribution by Pclass in Titanic\", fontweight=\"bold\", fontfamily='serif', fontsize=16)\n",
    "\n",
    "plt.show()    "
   ]
  },
  {
   "cell_type": "code",
   "execution_count": null,
   "metadata": {},
   "outputs": [],
   "source": [
    "def age_band(num):\n",
    "    for i in range(1, 100):\n",
    "        if num < 10*i :  return f'{(i-1) * 10} ~ {i*10}'\n",
    "\n",
    "data_train['age_band'] = data_train['Age'].apply(age_band)\n",
    "titanic_age = data_train[['age_band', 'Survived']].groupby('age_band')['Survived'].value_counts().sort_index().unstack().fillna(0)\n",
    "titanic_age['Survival rate'] = titanic_age[1] / (titanic_age[0] + titanic_age[1]) * 100\n",
    "\n",
    "fig, ax = plt.subplots(1, 1, figsize=(10, 7))\n",
    "\n",
    "color_map = ['#d4dddd' for _ in range(9)]\n",
    "color_map[0] = color_map[8] = '#244747' # color highlight\n",
    "\n",
    "ax.bar(titanic_age['Survival rate'].index, titanic_age['Survival rate'], \n",
    "       color=color_map, width=0.55, \n",
    "       edgecolor='black', \n",
    "       linewidth=0.7)\n",
    "\n",
    "\n",
    "\n",
    "for s in [\"top\",\"right\",\"left\"]:\n",
    "    ax.spines[s].set_visible(False)\n",
    "\n",
    "\n",
    "# Annotation Part\n",
    "for i in titanic_age['Survival rate'].index:\n",
    "    ax.annotate(f\"{titanic_age['Survival rate'][i]:.02f}%\", \n",
    "                   xy=(i, titanic_age['Survival rate'][i] + 2.3),\n",
    "                   va = 'center', ha='center',fontweight='light', \n",
    "                   color='#4a4a4a')\n",
    "\n",
    "\n",
    "# mean line + annotation\n",
    "mean = data_train['Survived'].mean() *100\n",
    "ax.axhline(mean ,color='black', linewidth=0.4, linestyle='dashdot')\n",
    "ax.annotate(f\"mean : {mean :.4}%\", \n",
    "            xy=('70 ~ 80', mean + 4),\n",
    "            va = 'center', ha='center',\n",
    "            color='#4a4a4a',\n",
    "            bbox=dict(boxstyle='round', pad=0.4, facecolor='#efe8d1', linewidth=0))\n",
    "    \n",
    "\n",
    "# Title & Subtitle    \n",
    "fig.text(0.06, 1, 'Age Band & Survival Rate', fontsize=15, fontweight='bold', fontfamily='serif')\n",
    "fig.text(0.06, 0.96, 'It can be seen that the survival rate of young children and the elderly is high.', fontsize=12, fontweight='light', fontfamily='serif')\n",
    "\n",
    "grid_y_ticks = np.arange(0, 101, 20)\n",
    "ax.set_yticks(grid_y_ticks)\n",
    "ax.grid(axis='y', linestyle='-', alpha=0.4)\n",
    "\n",
    "plt.tight_layout()\n",
    "plt.show()"
   ]
  },
  {
   "cell_type": "code",
   "execution_count": null,
   "metadata": {},
   "outputs": [],
   "source": [
    "survival_rate = data_train.groupby(['Sex']).mean()[['Survived']]\n",
    "male_rate = survival_rate.loc['male']\n",
    "female_rate = survival_rate.loc['female']\n",
    "display(survival_rate)"
   ]
  },
  {
   "cell_type": "code",
   "execution_count": null,
   "metadata": {},
   "outputs": [],
   "source": [
    "male_pos = np.random.uniform(0, male_rate, len(data_train[(data_train['Sex']=='male') & (data_train['Survived']==1)]))\n",
    "male_neg = np.random.uniform(male_rate, 1, len(data_train[(data_train['Sex']=='male') & (data_train['Survived']==0)]))\n",
    "female_pos = np.random.uniform(0, female_rate, len(data_train[(data_train['Sex']=='female') & (data_train['Survived']==1)]))\n",
    "female_neg = np.random.uniform(female_rate, 1, len(data_train[(data_train['Sex']=='female') & (data_train['Survived']==0)]))"
   ]
  },
  {
   "cell_type": "code",
   "execution_count": null,
   "metadata": {},
   "outputs": [],
   "source": [
    "fig, ax = plt.subplots(1, 1, figsize=(9, 7))\n",
    "plt.style\n",
    "np.random.seed(42)\n",
    "\n",
    "# Male Stripplot\n",
    "ax.scatter(np.random.uniform(-0.3, 0.3, len(male_pos)), male_pos, color='#004c70', edgecolor='lightgray', label='Male(Survived=1)')\n",
    "ax.scatter(np.random.uniform(-0.3, 0.3, len(male_neg)), male_neg, color='#004c70', edgecolor='lightgray', alpha=0.2, label='Male(Survived=0)')\n",
    "\n",
    "# Female Stripplot\n",
    "ax.scatter(1+np.random.uniform(-0.3, 0.3, len(female_pos)), female_pos, color='#990000', edgecolor='lightgray', label='Female(Survived=1)')\n",
    "ax.scatter(1+np.random.uniform(-0.3, 0.3, len(female_neg)), female_neg, color='#990000', edgecolor='lightgray', alpha=0.2, label='Female(Survived=0)')\n",
    "\n",
    "# Set Figure & Axes\n",
    "ax.set_xlim(-0.5, 2.0)\n",
    "ax.set_ylim(-0.03, 1.1)\n",
    "\n",
    "# Ticks\n",
    "ax.set_xticks([0, 1])\n",
    "ax.set_xticklabels(['Male', 'Female'], fontweight='bold', fontfamily='serif', fontsize=13)\n",
    "ax.set_yticks([], minor=False)\n",
    "ax.set_ylabel('')\n",
    "\n",
    "# Spines\n",
    "for s in [\"top\",\"right\",\"left\", 'bottom']:\n",
    "    ax.spines[s].set_visible(False)\n",
    "\n",
    "\n",
    "# Title & Explanation\n",
    "fig.text(0.1, 1, 'Distribution of Survivors by Gender', fontweight='bold', fontfamily='serif', fontsize=15)    \n",
    "fig.text(0.1, 0.96, 'As is known, the survival rate for female is high, with 19% of male and 74% of female.', fontweight='light', fontfamily='serif', fontsize=12)    \n",
    "\n",
    "ax.legend(loc=(0.8, 0.5), edgecolor='None')\n",
    "plt.tight_layout()\n",
    "plt.show()"
   ]
  },
  {
   "cell_type": "code",
   "execution_count": null,
   "metadata": {},
   "outputs": [],
   "source": [
    "data_train2=data_train.copy()\n",
    "data_train2['Sex'] = data_train2['Sex'].map({'male':0, 'female':1})\n",
    "data_train2['Embarked'] = data_train2['Embarked'].fillna('S')\n",
    "data_train2['Embarked'] = data_train2['Embarked'].map({'Southampton':0, 'Cherbourg':1, 'Queenstown':2})\n",
    "data_train2['Family'] = data_train2['SibSp'] + data_train2['Parch']\n",
    "corr = data_train2.corr()\n",
    "corr"
   ]
  },
  {
   "cell_type": "code",
   "execution_count": null,
   "metadata": {},
   "outputs": [],
   "source": [
    "fig, ax = plt.subplots(1, 1, figsize=(7, 7))\n",
    "\n",
    "mask = np.zeros_like(corr, dtype=np.bool)\n",
    "mask[np.triu_indices_from(mask)] = True\n",
    "\n",
    "cmap = sns.diverging_palette(230, 20, as_cmap=True)\n",
    "\n",
    "sns.heatmap(corr, \n",
    "            square=True, \n",
    "            mask=mask,\n",
    "            linewidth=2.5, \n",
    "            vmax=0.4, vmin=-0.4, \n",
    "            cmap=cmap, \n",
    "            cbar=False, \n",
    "            ax=ax)\n",
    "\n",
    "ax.set_yticklabels(ax.get_xticklabels(), fontfamily='serif', rotation = 0, fontsize=11)\n",
    "ax.set_xticklabels(ax.get_xticklabels(), fontfamily='serif', rotation=90, fontsize=11)\n",
    "\n",
    "ax.spines['top'].set_visible(True)\n",
    "\n",
    "fig.text(0.97, 1, 'Correlation Heatmap Visualization', fontweight='bold', fontfamily='serif', fontsize=15, ha='right')    \n",
    "fig.text(0.97, 0.92, 'Dataset : Titanic\\nAuthor : Subin An', fontweight='light', fontfamily='serif', fontsize=12, ha='right')    \n",
    "\n",
    "plt.tight_layout()\n",
    "plt.show()"
   ]
  },
  {
   "cell_type": "markdown",
   "metadata": {},
   "source": [
    "### Model"
   ]
  },
  {
   "cell_type": "code",
   "execution_count": null,
   "metadata": {},
   "outputs": [],
   "source": [
    "data_test['Person'] = data_test[['Age','Sex']].apply(titanic_children, axis=1)\n",
    "\n",
    "data_test['Alone'] = data_test['Parch'] + data_test['SibSp']\n",
    "data_test['Alone'].loc[data_test['Alone']>0] = 'With Family'\n",
    "data_test['Alone'].loc[data_test['Alone'] == 0] = 'Without Family'\n",
    "test_prepared = full_pipeline.fit_transform(data_test)\n",
    "cat_columns = full_pipeline.transformer_list[1][1][2].get_feature_names(cat_attrs)\n",
    "columns = np.append(num_attrs,cat_columns)\n",
    "test_prepared = pd.DataFrame(test_prepared, columns=columns)"
   ]
  },
  {
   "cell_type": "code",
   "execution_count": null,
   "metadata": {},
   "outputs": [],
   "source": [
    "train_new = data_train.copy()\n",
    "train_new['Pclass'] = train_new['Pclass'].map({'First Class':0, 'Second Class':1,'Third Class':2})\n",
    "train_new['Sex'] = train_new['Sex'].map({'male':0, 'female':1})\n",
    "train_new['Embarked'] = train_new['Embarked'].map({'Cherbourg':0, 'Queenstown':1,'Southampton':2})\n",
    "train_new['Person'] = train_new['Person'].map({'male':0, 'female':1, 'child':2})\n",
    "train_new['Alone'] = train_new['Alone'].map({'With Family':0, 'Without Family':1})\n",
    "train_new = train_new.drop(['Person','Alone'], axis=1)\n",
    "\n",
    "test_new = data_test.copy()\n",
    "test_new['Pclass'] = test_new['Pclass'].map({'First Class':0, 'Second Class':1,'Third Class':2})\n",
    "test_new['Sex'] = test_new['Sex'].map({'male':0, 'female':1})\n",
    "test_new['Embarked'] = test_new['Embarked'].map({'Cherbourg':0, 'Queenstown':1,'Southampton':2})\n",
    "test_new['Person'] = test_new['Person'].map({'male':0, 'female':1, 'child':2})\n",
    "test_new['Alone'] = test_new['Alone'].map({'With Family':0, 'Without Family':1})\n",
    "test_new = test_new.drop(['Person','Alone'], axis=1)\n"
   ]
  },
  {
   "cell_type": "code",
   "execution_count": null,
   "metadata": {},
   "outputs": [],
   "source": [
    "train_prepared = train_prepared.drop(['Alone_With Family','Alone_Without Family','Person_child','Person_female','Person_male'],axis=1)\n",
    "train_prepared.head()"
   ]
  },
  {
   "cell_type": "code",
   "execution_count": null,
   "metadata": {},
   "outputs": [],
   "source": [
    "test_prepared = test_prepared.drop(['Alone_With Family','Alone_Without Family','Person_child','Person_female','Person_male'],axis=1)\n",
    "test_prepared.head()"
   ]
  },
  {
   "cell_type": "code",
   "execution_count": null,
   "metadata": {},
   "outputs": [],
   "source": [
    "# Logistic Regression\n",
    "\n",
    "logreg = LogisticRegression()\n",
    "logreg.fit(train_prepared, data_label)\n",
    "Y_pred = logreg.predict(test_prepared)\n",
    "acc_log = round(logreg.score(train_prepared, data_label) * 100, 2)\n",
    "print(acc_log)\n",
    "coeff_df = pd.DataFrame(train_prepared.columns.delete(0))\n",
    "coeff_df.columns = ['Feature']\n",
    "coeff_df[\"Correlation\"] = pd.Series(logreg.coef_[0])\n",
    "\n",
    "coeff_df.sort_values(by='Correlation', ascending=False)"
   ]
  },
  {
   "cell_type": "code",
   "execution_count": null,
   "metadata": {},
   "outputs": [],
   "source": [
    "train_new['Age'] = train_new['Age'].fillna(train_new['Age'].median())\n",
    "train_new['Embarked'] = train_new['Embarked'].fillna(2)"
   ]
  },
  {
   "cell_type": "code",
   "execution_count": null,
   "metadata": {},
   "outputs": [],
   "source": [
    "test_new['Age'] = test_new['Age'].fillna(test_new['Age'].median())\n",
    "test_new['Fare'] = test_new['Fare'].fillna(test_new['Fare'].median())"
   ]
  },
  {
   "cell_type": "code",
   "execution_count": null,
   "metadata": {},
   "outputs": [],
   "source": [
    "train_new = train_new.drop('Survived', axis=1)"
   ]
  },
  {
   "cell_type": "code",
   "execution_count": null,
   "metadata": {},
   "outputs": [],
   "source": [
    "display(test_new)\n",
    "display(train_new)\n"
   ]
  },
  {
   "cell_type": "code",
   "execution_count": null,
   "metadata": {},
   "outputs": [],
   "source": [
    "# Logistic Regression\n",
    "\n",
    "logreg2 = LogisticRegression()\n",
    "logreg2.fit(train_new, data_label)\n",
    "Y2_pred = logreg2.predict(test_new)\n",
    "acc_log2 = round(logreg2.score(train_new, data_label) * 100, 2)\n",
    "print(acc_log2)\n",
    "coeff_df = pd.DataFrame(train_new.columns.delete(0))\n",
    "coeff_df.columns = ['Feature']\n",
    "coeff_df[\"Correlation\"] = pd.Series(logreg.coef_[0])\n",
    "\n",
    "coeff_df.sort_values(by='Correlation', ascending=False)"
   ]
  },
  {
   "cell_type": "code",
   "execution_count": null,
   "metadata": {},
   "outputs": [],
   "source": [
    "cat_col_selector = selector(dtype_include=object)\n",
    "cat_col_train = cat_col_selector(data_train_att)\n",
    "data_train_num = data_train_att.drop(cat_col_train, axis=1)\n",
    "cat_col_test = cat_col_selector(data_test_att)\n",
    "data_test_num = data_test_att.drop(cat_col_test, axis=1)\n",
    "\n",
    "encoder_1hot = OneHotEncoder(sparse=False)\n",
    "cat_train_tmp = encoder_1hot.fit_transform(data_train_att[cat_col_train])\n",
    "cat_test_tmp = encoder_1hot.fit_transform(data_test[cat_col_test])\n",
    "train_cat_1hot = pd.DataFrame(cat_train_tmp)\n",
    "test_cat_1hot = pd.DataFrame(cat_test_tmp)\n",
    "train_cat_1hot.columns = encoder_1hot.get_feature_names()\n",
    "test_cat_1hot.columns = encoder_1hot.get_feature_names()\n",
    "\n",
    "data_train_final = pd.concat([data_train_num, train_cat_1hot], axis=1)\n",
    "data_test_final = pd.concat([data_test_num, test_cat_1hot], axis=1)"
   ]
  }
 ],
 "metadata": {
  "interpreter": {
   "hash": "7969e2d402af0b7545bda0eb3df187ecc624bac72a8c45c1a25d9ecc321b2904"
  },
  "kernelspec": {
   "display_name": "Python 3.9.7 ('base')",
   "language": "python",
   "name": "python3"
  },
  "language_info": {
   "codemirror_mode": {
    "name": "ipython",
    "version": 3
   },
   "file_extension": ".py",
   "mimetype": "text/x-python",
   "name": "python",
   "nbconvert_exporter": "python",
   "pygments_lexer": "ipython3",
   "version": "3.10.2"
  },
  "orig_nbformat": 4
 },
 "nbformat": 4,
 "nbformat_minor": 2
}
